{
 "cells": [
  {
   "cell_type": "markdown",
   "metadata": {},
   "source": [
    "# Property Decorators\n",
    "Allow us to decorate a **@property** method that will accessible like an attribute"
   ]
  },
  {
   "cell_type": "code",
   "execution_count": 15,
   "metadata": {
    "collapsed": true
   },
   "outputs": [],
   "source": [
    "class Employee:\n",
    "    def __init__(self, first, last):\n",
    "        self.first = first\n",
    "        self.last = last\n",
    "        self.email = first + \".\" + last + \"@weber.edu\"\n",
    "        \n",
    "    def fullname(self):\n",
    "        return \"{} {}\".format(self.first, self.last)"
   ]
  },
  {
   "cell_type": "code",
   "execution_count": 16,
   "metadata": {},
   "outputs": [
    {
     "name": "stdout",
     "output_type": "stream",
     "text": [
      "John\n",
      "John Doe\n"
     ]
    }
   ],
   "source": [
    "#test it\n",
    "emp1 = Employee(\"John\", \"Doe\")\n",
    "print(emp1.first)\n",
    "print(emp1.fullname())"
   ]
  },
  {
   "cell_type": "markdown",
   "metadata": {},
   "source": [
    "Change some of the attributes"
   ]
  },
  {
   "cell_type": "code",
   "execution_count": 17,
   "metadata": {},
   "outputs": [
    {
     "name": "stdout",
     "output_type": "stream",
     "text": [
      "Mario\n",
      "John.Doe@weber.edu\n"
     ]
    }
   ],
   "source": [
    "emp1.first = \"Mario\"\n",
    "print(emp1.first)\n",
    "print(emp1.email)"
   ]
  },
  {
   "cell_type": "markdown",
   "metadata": {},
   "source": [
    "We want a way to automatically update the email when the first or last name change\n",
    "Create a method like **fullname**\n",
    "\n",
    "Problem: people who are already using it, it will break the code.  They will need to chane their **email attribute** to and **email method**\n",
    "\n",
    "Where C++ and Jave programmers are happy.  We have a setters **setters** and **getters** option"
   ]
  },
  {
   "cell_type": "code",
   "execution_count": 18,
   "metadata": {
    "collapsed": true
   },
   "outputs": [],
   "source": [
    "class Employee:\n",
    "    def __init__(self, first, last):\n",
    "        self.first = first\n",
    "        self.last = last\n",
    "    \n",
    "    \n",
    "    def email(self):\n",
    "        return \"{}.{}@weber.edu\".format(self.first, self.last)\n",
    "        \n",
    "    def fullname(self):\n",
    "        return \"{} {}\".format(self.first, self.last)"
   ]
  },
  {
   "cell_type": "code",
   "execution_count": 19,
   "metadata": {},
   "outputs": [
    {
     "name": "stdout",
     "output_type": "stream",
     "text": [
      "John\n",
      "<bound method Employee.email of <__main__.Employee object at 0x000001F04CA420F0>>\n",
      "Mario\n",
      "<bound method Employee.email of <__main__.Employee object at 0x000001F04CA420F0>>\n"
     ]
    }
   ],
   "source": [
    "#test it\n",
    "emp1 = Employee(\"John\", \"Doe\")\n",
    "print(emp1.first)\n",
    "print(emp1.email)\n",
    "emp1.first = \"Mario\"\n",
    "print(emp1.first)\n",
    "print(emp1.email)"
   ]
  },
  {
   "cell_type": "code",
   "execution_count": 20,
   "metadata": {},
   "outputs": [
    {
     "name": "stdout",
     "output_type": "stream",
     "text": [
      "John\n",
      "John.Doe@weber.edu\n",
      "Mario\n",
      "Mario.Doe@weber.edu\n"
     ]
    }
   ],
   "source": [
    "#test it\n",
    "emp1 = Employee(\"John\", \"Doe\")\n",
    "print(emp1.first)\n",
    "print(emp1.email())\n",
    "emp1.first = \"Mario\"\n",
    "print(emp1.first)\n",
    "print(emp1.email())"
   ]
  },
  {
   "cell_type": "markdown",
   "metadata": {},
   "source": [
    "Change the behavior of this method, to that of an attribute"
   ]
  },
  {
   "cell_type": "code",
   "execution_count": 21,
   "metadata": {
    "collapsed": true
   },
   "outputs": [],
   "source": [
    "class Employee:\n",
    "    def __init__(self, first, last):\n",
    "        self.first = first\n",
    "        self.last = last\n",
    "    \n",
    "    @property\n",
    "    def email(self):\n",
    "        return \"{}.{}@weber.edu\".format(self.first, self.last)\n",
    "        \n",
    "    def fullname(self):\n",
    "        return \"{} {}\".format(self.first, self.last)"
   ]
  },
  {
   "cell_type": "code",
   "execution_count": 22,
   "metadata": {},
   "outputs": [
    {
     "name": "stdout",
     "output_type": "stream",
     "text": [
      "John\n",
      "John.Doe@weber.edu\n",
      "Mario\n",
      "Mario.Doe@weber.edu\n"
     ]
    }
   ],
   "source": [
    "#test it\n",
    "emp1 = Employee(\"John\", \"Doe\")\n",
    "print(emp1.first)\n",
    "print(emp1.email)\n",
    "emp1.first = \"Mario\"\n",
    "print(emp1.first)\n",
    "print(emp1.email)"
   ]
  },
  {
   "cell_type": "markdown",
   "metadata": {},
   "source": [
    "### The above will give you **getters**"
   ]
  },
  {
   "cell_type": "markdown",
   "metadata": {},
   "source": [
    "#### Now tye setters\n",
    "To set values, we need another decorator **@method.setter**\n",
    "ex. @fullname.setter"
   ]
  },
  {
   "cell_type": "code",
   "execution_count": 24,
   "metadata": {
    "collapsed": true
   },
   "outputs": [],
   "source": [
    "emp1.fullname = \"John Foo\""
   ]
  },
  {
   "cell_type": "code",
   "execution_count": 43,
   "metadata": {},
   "outputs": [],
   "source": [
    "class Employee:\n",
    "    def __init__(self, first, last):\n",
    "        self.first = first\n",
    "        self.last = last\n",
    "    \n",
    "    @property\n",
    "    def email(self):\n",
    "        return \"{}.{}@weber.edu\".format(self.first, self.last)\n",
    "    \n",
    "    @property\n",
    "    def fullname(self):\n",
    "        return self.first + \" \" + self.last\n",
    "    \n",
    "    @fullname.setter\n",
    "    def fullname(self, name):\n",
    "        first, last = name.split(' ')\n",
    "        self.first = first\n",
    "        self.last = last"
   ]
  },
  {
   "cell_type": "markdown",
   "metadata": {},
   "source": [
    "### Deleters\n",
    "\n",
    "To do some clean up"
   ]
  },
  {
   "cell_type": "code",
   "execution_count": 41,
   "metadata": {},
   "outputs": [],
   "source": [
    "class Employee:\n",
    "    def __init__(self, first, last):\n",
    "        self.first = first\n",
    "        self.last = last\n",
    "    \n",
    "    @property\n",
    "    def email(self):\n",
    "        return \"{}.{}@weber.edu\".format(self.first, self.last)\n",
    "    \n",
    "    @property\n",
    "    def fullname(self):\n",
    "        return \"{} {}\".format(self.first, self.last)\n",
    "    \n",
    "    @fullname.setter\n",
    "    def fullname(self, name):\n",
    "        first, last = name.split(' ')\n",
    "        self.first = first\n",
    "        self.last = last\n",
    "        \n",
    "    @fullname.deleter\n",
    "    def fullname(self):\n",
    "        print(\"Delete name\")\n",
    "        self.first = None\n",
    "        self.last = None"
   ]
  },
  {
   "cell_type": "code",
   "execution_count": 42,
   "metadata": {},
   "outputs": [
    {
     "name": "stdout",
     "output_type": "stream",
     "text": [
      "John\n",
      "John.Doe@weber.edu\n",
      "Mario\n",
      "Mario.Doe@weber.edu\n",
      "Mario Smith\n",
      "Delete name\n",
      "None None\n"
     ]
    }
   ],
   "source": [
    "#test it\n",
    "emp1 = Employee(\"John\", \"Doe\")\n",
    "print(emp1.first)\n",
    "print(emp1.email)\n",
    "emp1.first = \"Mario\"\n",
    "print(emp1.first)\n",
    "print(emp1.email)\n",
    "emp1.fullname = \"Mario Smith\"\n",
    "print(emp1.fullname)\n",
    "del emp1.fullname\n",
    "print(emp1.fullname)"
   ]
  },
  {
   "cell_type": "code",
   "execution_count": null,
   "metadata": {
    "collapsed": true
   },
   "outputs": [],
   "source": []
  }
 ],
 "metadata": {
  "kernelspec": {
   "display_name": "Python 3",
   "language": "python",
   "name": "python3"
  },
  "language_info": {
   "codemirror_mode": {
    "name": "ipython",
    "version": 3
   },
   "file_extension": ".py",
   "mimetype": "text/x-python",
   "name": "python",
   "nbconvert_exporter": "python",
   "pygments_lexer": "ipython3",
   "version": "3.5.1"
  }
 },
 "nbformat": 4,
 "nbformat_minor": 2
}
