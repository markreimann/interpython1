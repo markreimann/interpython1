{
 "cells": [
  {
   "cell_type": "code",
   "execution_count": 1,
   "metadata": {
    "collapsed": true
   },
   "outputs": [],
   "source": [
    "class Employee:\n",
    "    def __init__(self, first, last, pay):\n",
    "        self.first = first;\n",
    "        self.last = last\n",
    "        self.pay = pay\n",
    "        self.email = first + \".\" + last + \"@weber.edu\"\n",
    "        \n",
    "    def fullname(self):\n",
    "        return \"{} {}\".format(self.first, self.last)"
   ]
  },
  {
   "cell_type": "code",
   "execution_count": 5,
   "metadata": {},
   "outputs": [
    {
     "name": "stdout",
     "output_type": "stream",
     "text": [
      "Juan Perez\n",
      "Raymond White\n"
     ]
    }
   ],
   "source": [
    "# test it\n",
    "emp1 = Employee(\"Juan\", \"Perez\", 50000)\n",
    "emp2 = Employee(\"Raymond\", \"White\", 30000)\n",
    "# print some info\n",
    "# Remember to call method with ()\n",
    "print(emp1.fullname())\n",
    "print(emp2.fullname())"
   ]
  },
  {
   "cell_type": "markdown",
   "metadata": {},
   "source": [
    "## Class Variables\n",
    "They are visible for every instance of the class.  Instead of local variables to one instance"
   ]
  },
  {
   "cell_type": "code",
   "execution_count": 6,
   "metadata": {
    "collapsed": true
   },
   "outputs": [],
   "source": [
    "class Employee:\n",
    "    def __init__(self, first, last, pay):\n",
    "        self.first = first;\n",
    "        self.last = last\n",
    "        self.pay = pay\n",
    "        self.email = first + \".\" + last + \"@weber.edu\"\n",
    "        \n",
    "    def fullname(self):\n",
    "        return \"{} {}\".format(self.first, self.last)\n",
    "    \n",
    "    def apply_raise(self):\n",
    "        self.pay = int(self.pay * 1.04)        "
   ]
  },
  {
   "cell_type": "code",
   "execution_count": 7,
   "metadata": {},
   "outputs": [
    {
     "name": "stdout",
     "output_type": "stream",
     "text": [
      "50000\n",
      "52000\n"
     ]
    }
   ],
   "source": [
    "# test it\n",
    "emp1 = Employee(\"Juan\", \"Perez\", 50000)\n",
    "print(emp1.pay)\n",
    "emp1.apply_raise()\n",
    "print(emp1.pay)"
   ]
  },
  {
   "cell_type": "markdown",
   "metadata": {},
   "source": [
    "Whaat if you want to increase the 4%?<br>\n",
    "you do not want to do it manually.  Make it a class vairable"
   ]
  },
  {
   "cell_type": "code",
   "execution_count": 12,
   "metadata": {},
   "outputs": [
    {
     "name": "stdout",
     "output_type": "stream",
     "text": [
      "50000\n"
     ]
    },
    {
     "ename": "NameError",
     "evalue": "name 'raise_amount' is not defined",
     "output_type": "error",
     "traceback": [
      "\u001b[1;31m---------------------------------------------------------------------------\u001b[0m",
      "\u001b[1;31mNameError\u001b[0m                                 Traceback (most recent call last)",
      "\u001b[1;32m<ipython-input-12-2997e1a21289>\u001b[0m in \u001b[0;36m<module>\u001b[1;34m()\u001b[0m\n\u001b[0;32m     17\u001b[0m \u001b[0mprint\u001b[0m\u001b[1;33m(\u001b[0m\u001b[0memp1\u001b[0m\u001b[1;33m.\u001b[0m\u001b[0mpay\u001b[0m\u001b[1;33m)\u001b[0m\u001b[1;33m\u001b[0m\u001b[0m\n\u001b[0;32m     18\u001b[0m \u001b[0memp1\u001b[0m\u001b[1;33m.\u001b[0m\u001b[0mraise_amount\u001b[0m \u001b[1;33m=\u001b[0m \u001b[1;36m1.05\u001b[0m\u001b[1;33m\u001b[0m\u001b[0m\n\u001b[1;32m---> 19\u001b[1;33m \u001b[0memp1\u001b[0m\u001b[1;33m.\u001b[0m\u001b[0mapply_raise\u001b[0m\u001b[1;33m(\u001b[0m\u001b[1;33m)\u001b[0m\u001b[1;33m\u001b[0m\u001b[0m\n\u001b[0m\u001b[0;32m     20\u001b[0m \u001b[0mprint\u001b[0m\u001b[1;33m(\u001b[0m\u001b[0memp1\u001b[0m\u001b[1;33m.\u001b[0m\u001b[0mpay\u001b[0m\u001b[1;33m)\u001b[0m\u001b[1;33m\u001b[0m\u001b[0m\n",
      "\u001b[1;32m<ipython-input-12-2997e1a21289>\u001b[0m in \u001b[0;36mapply_raise\u001b[1;34m(self)\u001b[0m\n\u001b[0;32m     11\u001b[0m \u001b[1;33m\u001b[0m\u001b[0m\n\u001b[0;32m     12\u001b[0m     \u001b[1;32mdef\u001b[0m \u001b[0mapply_raise\u001b[0m\u001b[1;33m(\u001b[0m\u001b[0mself\u001b[0m\u001b[1;33m)\u001b[0m\u001b[1;33m:\u001b[0m\u001b[1;33m\u001b[0m\u001b[0m\n\u001b[1;32m---> 13\u001b[1;33m         \u001b[0mself\u001b[0m\u001b[1;33m.\u001b[0m\u001b[0mpay\u001b[0m \u001b[1;33m=\u001b[0m \u001b[0mint\u001b[0m\u001b[1;33m(\u001b[0m\u001b[0mself\u001b[0m\u001b[1;33m.\u001b[0m\u001b[0mpay\u001b[0m \u001b[1;33m*\u001b[0m \u001b[0mraise_amount\u001b[0m\u001b[1;33m)\u001b[0m\u001b[1;33m\u001b[0m\u001b[0m\n\u001b[0m\u001b[0;32m     14\u001b[0m \u001b[1;33m\u001b[0m\u001b[0m\n\u001b[0;32m     15\u001b[0m \u001b[1;31m# test it\u001b[0m\u001b[1;33m\u001b[0m\u001b[1;33m\u001b[0m\u001b[0m\n",
      "\u001b[1;31mNameError\u001b[0m: name 'raise_amount' is not defined"
     ]
    }
   ],
   "source": [
    "class Employee:\n",
    "    raise_amount = 1.04\n",
    "    def __init__(self, first, last, pay):\n",
    "        self.first = first;\n",
    "        self.last = last\n",
    "        self.pay = pay\n",
    "        self.email = first + \".\" + last + \"@weber.edu\"\n",
    "        \n",
    "    def fullname(self):\n",
    "        return \"{} {}\".format(self.first, self.last)\n",
    "    \n",
    "    def apply_raise(self):\n",
    "        self.pay = int(self.pay * raise_amount)  \n",
    "        \n",
    "# test it\n",
    "emp1 = Employee(\"Juan\", \"Perez\", 50000)\n",
    "print(emp1.pay)\n",
    "emp1.raise_amount = 1.05\n",
    "emp1.apply_raise()\n",
    "print(emp1.pay)"
   ]
  },
  {
   "cell_type": "code",
   "execution_count": 28,
   "metadata": {},
   "outputs": [
    {
     "name": "stdout",
     "output_type": "stream",
     "text": [
      "50000\n",
      "52000\n"
     ]
    }
   ],
   "source": [
    "class Employee:\n",
    "    raise_amount = 1.04\n",
    "    def __init__(self, first, last, pay):\n",
    "        self.first = first;\n",
    "        self.last = last\n",
    "        self.pay = pay\n",
    "        self.email = first + \".\" + last + \"@weber.edu\"\n",
    "        \n",
    "    def fullname(self):\n",
    "        return \"{} {}\".format(self.first, self.last)\n",
    "    \n",
    "    def apply_raise(self):\n",
    "        # you cannot access the varialbe directly\n",
    "        # you need the class ne\n",
    "        # self.pay = int(self.pay * Employee.raise_amount) \n",
    "        # Create a instance variable\n",
    "        self.pay = int(self.pay * self.raise_amount) \n",
    "        \n",
    "# test it\n",
    "emp1 = Employee(\"Juan\", \"Perez\", 50000)\n",
    "print(emp1.pay)\n",
    "emp1.apply_raise()\n",
    "print(emp1.pay)"
   ]
  },
  {
   "cell_type": "code",
   "execution_count": 29,
   "metadata": {},
   "outputs": [
    {
     "name": "stdout",
     "output_type": "stream",
     "text": [
      "1.04\n",
      "1.04\n",
      "1.04\n"
     ]
    }
   ],
   "source": [
    "# more scenarios\n",
    "emp1 = Employee(\"Juan\", \"Perez\", 50000)\n",
    "emp2= Employee(\"Raymond\", \"White\", 50000)\n",
    "print(Employee.raise_amount)\n",
    "print(emp1.raise_amount)\n",
    "print(emp2.raise_amount)"
   ]
  },
  {
   "cell_type": "markdown",
   "metadata": {},
   "source": [
    "You can access your vairable both ways\n",
    "\n",
    "1 .First it checks in theinstance has this attribute\n",
    "\n",
    "2. It will chck if the class has it or if the class inherits from another class\n"
   ]
  },
  {
   "cell_type": "code",
   "execution_count": 30,
   "metadata": {},
   "outputs": [
    {
     "name": "stdout",
     "output_type": "stream",
     "text": [
      "{'last': 'Ramirez', 'email': 'Isable.Ramirez@weber.edu', 'first': 'Isable', 'pay': 90000}\n"
     ]
    }
   ],
   "source": [
    "# namespcce\n",
    "emp3 = Employee(\"Isable\", \"Ramirez\", 90000)\n",
    "print(emp3.__dict__)"
   ]
  },
  {
   "cell_type": "code",
   "execution_count": 31,
   "metadata": {},
   "outputs": [
    {
     "name": "stdout",
     "output_type": "stream",
     "text": [
      "{'apply_raise': <function Employee.apply_raise at 0x000002170A846F28>, 'raise_amount': 1.04, '__module__': '__main__', '__dict__': <attribute '__dict__' of 'Employee' objects>, '__weakref__': <attribute '__weakref__' of 'Employee' objects>, '__doc__': None, 'fullname': <function Employee.fullname at 0x000002170A846A60>, '__init__': <function Employee.__init__ at 0x000002170A846950>}\n"
     ]
    }
   ],
   "source": [
    "print( Employee.__dict__)"
   ]
  },
  {
   "cell_type": "code",
   "execution_count": 34,
   "metadata": {},
   "outputs": [
    {
     "name": "stdout",
     "output_type": "stream",
     "text": [
      "1.05\n",
      "1.05\n",
      "1.05\n"
     ]
    }
   ],
   "source": [
    "# more scenarios\n",
    "emp1 = Employee(\"Juan\", \"Perez\", 50000)\n",
    "emp2= Employee(\"Raymond\", \"White\", 50000)\n",
    "Employee.raise_amount = 1.05\n",
    "print(Employee.raise_amount)\n",
    "print(emp1.raise_amount)\n",
    "print(emp2.raise_amount)"
   ]
  },
  {
   "cell_type": "code",
   "execution_count": 37,
   "metadata": {},
   "outputs": [
    {
     "name": "stdout",
     "output_type": "stream",
     "text": [
      "1.05\n",
      "1.09\n",
      "1.05\n"
     ]
    }
   ],
   "source": [
    "# what if i use an instance\n",
    "emp1.raise_amount = 1.09\n",
    "print(Employee.raise_amount)\n",
    "print(emp1.raise_amount)\n",
    "print(emp2.raise_amount)"
   ]
  },
  {
   "cell_type": "code",
   "execution_count": 39,
   "metadata": {},
   "outputs": [
    {
     "name": "stdout",
     "output_type": "stream",
     "text": [
      "{'last': 'Perez', 'email': 'Juan.Perez@weber.edu', 'raise_amount': 1.09, 'first': 'Juan', 'pay': 50000}\n",
      "{'last': 'White', 'email': 'Raymond.White@weber.edu', 'first': 'Raymond', 'pay': 50000}\n"
     ]
    }
   ],
   "source": [
    "print(emp1.__dict__)\n",
    "print(emp2.__dict__)"
   ]
  },
  {
   "cell_type": "markdown",
   "metadata": {},
   "source": [
    "emp1 now finds the **raise_amount** in the local namespace.<br>\n",
    "Allows any subclass to overwirtes this value is needed."
   ]
  },
  {
   "cell_type": "code",
   "execution_count": 86,
   "metadata": {
    "collapsed": true
   },
   "outputs": [],
   "source": [
    "class Employee:\n",
    "    raise_amount = 1.04\n",
    "    num_of_emp = 0\n",
    "    def __init__(self, first, last, pay):\n",
    "        self.first = first;\n",
    "        self.last = last\n",
    "        self.pay = pay\n",
    "        self.email = first + \".\" + last + \"@weber.edu\"\n",
    "        Employee.num_of_emp += 1\n",
    "        \n",
    "    def fullname(self):\n",
    "        return \"{} {}\".format(self.first, self.last)\n",
    "    \n",
    "    def apply_raise(self):\n",
    "        self.pay = int(self.pay * self.raise_amount) "
   ]
  },
  {
   "cell_type": "code",
   "execution_count": 87,
   "metadata": {},
   "outputs": [
    {
     "name": "stdout",
     "output_type": "stream",
     "text": [
      "0\n",
      "2\n",
      "2\n"
     ]
    }
   ],
   "source": [
    "print(Employee.num_of_emp)\n",
    "emp1 = Employee(\"Juan\", \"Perez\", 50000)\n",
    "emp2= Employee(\"Raymond\", \"White\", 50000)\n",
    "print(Employee.num_of_emp)\n",
    "print(emp2.num_of_emp)"
   ]
  },
  {
   "cell_type": "code",
   "execution_count": null,
   "metadata": {},
   "outputs": [],
   "source": []
  },
  {
   "cell_type": "code",
   "execution_count": null,
   "metadata": {
    "collapsed": true
   },
   "outputs": [],
   "source": []
  }
 ],
 "metadata": {
  "kernelspec": {
   "display_name": "Python 3",
   "language": "python",
   "name": "python3"
  },
  "language_info": {
   "codemirror_mode": {
    "name": "ipython",
    "version": 3
   },
   "file_extension": ".py",
   "mimetype": "text/x-python",
   "name": "python",
   "nbconvert_exporter": "python",
   "pygments_lexer": "ipython3",
   "version": "3.5.1"
  }
 },
 "nbformat": 4,
 "nbformat_minor": 2
}
