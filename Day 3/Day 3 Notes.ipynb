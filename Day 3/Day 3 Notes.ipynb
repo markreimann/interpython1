{
 "cells": [
  {
   "cell_type": "markdown",
   "metadata": {},
   "source": [
    "# Day 3 Notes and Stuff"
   ]
  },
  {
   "cell_type": "markdown",
   "metadata": {},
   "source": [
    "## Positional Arguments"
   ]
  },
  {
   "cell_type": "code",
   "execution_count": 1,
   "metadata": {},
   "outputs": [
    {
     "name": "stdout",
     "output_type": "stream",
     "text": [
      "one\n"
     ]
    }
   ],
   "source": [
    "# one positional argument\n",
    "print (\"one\")"
   ]
  },
  {
   "cell_type": "code",
   "execution_count": 2,
   "metadata": {},
   "outputs": [
    {
     "name": "stdout",
     "output_type": "stream",
     "text": [
      "one two\n"
     ]
    }
   ],
   "source": [
    "# Two positional Arguments\n",
    "print (\"one\", \"two\")"
   ]
  },
  {
   "cell_type": "markdown",
   "metadata": {},
   "source": [
    "### Arbitrary number of arguments **\\*args**"
   ]
  },
  {
   "cell_type": "code",
   "execution_count": 3,
   "metadata": {
    "collapsed": true
   },
   "outputs": [],
   "source": [
    "def hyper_volume(*args):\n",
    "    print(args)\n",
    "    print(type(args))"
   ]
  },
  {
   "cell_type": "code",
   "execution_count": 6,
   "metadata": {},
   "outputs": [
    {
     "name": "stdout",
     "output_type": "stream",
     "text": [
      "(3, 4, 5, 6)\n",
      "<class 'tuple'>\n"
     ]
    }
   ],
   "source": [
    "# test it\n",
    "hyper_volume(3,4,5,6)"
   ]
  },
  {
   "cell_type": "code",
   "execution_count": 9,
   "metadata": {},
   "outputs": [],
   "source": [
    "def hyper_volume(*lengths):\n",
    "    i = iter(lengths)\n",
    "    v = next(i)\n",
    "    for length in i:\n",
    "        v *= length\n",
    "    return v"
   ]
  },
  {
   "cell_type": "code",
   "execution_count": 20,
   "metadata": {},
   "outputs": [
    {
     "ename": "StopIteration",
     "evalue": "",
     "output_type": "error",
     "traceback": [
      "\u001b[1;31m---------------------------------------------------------------------------\u001b[0m",
      "\u001b[1;31mStopIteration\u001b[0m                             Traceback (most recent call last)",
      "\u001b[1;32m<ipython-input-20-6ee1e2de8ed2>\u001b[0m in \u001b[0;36m<module>\u001b[1;34m()\u001b[0m\n\u001b[0;32m      1\u001b[0m \u001b[1;31m# Test it\u001b[0m\u001b[1;33m\u001b[0m\u001b[1;33m\u001b[0m\u001b[0m\n\u001b[1;32m----> 2\u001b[1;33m \u001b[0mhyper_volume\u001b[0m\u001b[1;33m(\u001b[0m\u001b[1;33m)\u001b[0m\u001b[1;33m\u001b[0m\u001b[0m\n\u001b[0m",
      "\u001b[1;32m<ipython-input-9-60e413510b9e>\u001b[0m in \u001b[0;36mhyper_volume\u001b[1;34m(*lengths)\u001b[0m\n\u001b[0;32m      1\u001b[0m \u001b[1;32mdef\u001b[0m \u001b[0mhyper_volume\u001b[0m\u001b[1;33m(\u001b[0m\u001b[1;33m*\u001b[0m\u001b[0mlengths\u001b[0m\u001b[1;33m)\u001b[0m\u001b[1;33m:\u001b[0m\u001b[1;33m\u001b[0m\u001b[0m\n\u001b[0;32m      2\u001b[0m     \u001b[0mi\u001b[0m \u001b[1;33m=\u001b[0m \u001b[0miter\u001b[0m\u001b[1;33m(\u001b[0m\u001b[0mlengths\u001b[0m\u001b[1;33m)\u001b[0m\u001b[1;33m\u001b[0m\u001b[0m\n\u001b[1;32m----> 3\u001b[1;33m     \u001b[0mv\u001b[0m \u001b[1;33m=\u001b[0m \u001b[0mnext\u001b[0m\u001b[1;33m(\u001b[0m\u001b[0mi\u001b[0m\u001b[1;33m)\u001b[0m\u001b[1;33m\u001b[0m\u001b[0m\n\u001b[0m\u001b[0;32m      4\u001b[0m     \u001b[1;32mfor\u001b[0m \u001b[0mlength\u001b[0m \u001b[1;32min\u001b[0m \u001b[0mi\u001b[0m\u001b[1;33m:\u001b[0m\u001b[1;33m\u001b[0m\u001b[0m\n\u001b[0;32m      5\u001b[0m         \u001b[0mv\u001b[0m \u001b[1;33m*=\u001b[0m \u001b[0mlength\u001b[0m\u001b[1;33m\u001b[0m\u001b[0m\n",
      "\u001b[1;31mStopIteration\u001b[0m: "
     ]
    }
   ],
   "source": [
    "# Test it\n",
    "hyper_volume()"
   ]
  },
  {
   "cell_type": "code",
   "execution_count": 22,
   "metadata": {
    "collapsed": true
   },
   "outputs": [],
   "source": [
    "#required one parameter at least\n",
    "def hyper_volume(length, *lengths):\n",
    "    v = length\n",
    "    for item in lengths:\n",
    "        v *= item\n",
    "    return v"
   ]
  },
  {
   "cell_type": "code",
   "execution_count": 24,
   "metadata": {},
   "outputs": [
    {
     "name": "stdout",
     "output_type": "stream",
     "text": [
      "1\n",
      "2\n",
      "6\n"
     ]
    },
    {
     "ename": "TypeError",
     "evalue": "hyper_volume() missing 1 required positional argument: 'length'",
     "output_type": "error",
     "traceback": [
      "\u001b[1;31m---------------------------------------------------------------------------\u001b[0m",
      "\u001b[1;31mTypeError\u001b[0m                                 Traceback (most recent call last)",
      "\u001b[1;32m<ipython-input-24-d59099f2b3d4>\u001b[0m in \u001b[0;36m<module>\u001b[1;34m()\u001b[0m\n\u001b[0;32m      2\u001b[0m \u001b[0mprint\u001b[0m\u001b[1;33m(\u001b[0m\u001b[0mhyper_volume\u001b[0m\u001b[1;33m(\u001b[0m\u001b[1;36m1\u001b[0m\u001b[1;33m,\u001b[0m\u001b[1;36m2\u001b[0m\u001b[1;33m)\u001b[0m\u001b[1;33m)\u001b[0m\u001b[1;33m\u001b[0m\u001b[0m\n\u001b[0;32m      3\u001b[0m \u001b[0mprint\u001b[0m\u001b[1;33m(\u001b[0m\u001b[0mhyper_volume\u001b[0m\u001b[1;33m(\u001b[0m\u001b[1;36m1\u001b[0m\u001b[1;33m,\u001b[0m\u001b[1;36m2\u001b[0m\u001b[1;33m,\u001b[0m\u001b[1;36m3\u001b[0m\u001b[1;33m)\u001b[0m\u001b[1;33m)\u001b[0m\u001b[1;33m\u001b[0m\u001b[0m\n\u001b[1;32m----> 4\u001b[1;33m \u001b[0mprint\u001b[0m\u001b[1;33m(\u001b[0m\u001b[0mhyper_volume\u001b[0m\u001b[1;33m(\u001b[0m\u001b[1;33m)\u001b[0m\u001b[1;33m)\u001b[0m\u001b[1;33m\u001b[0m\u001b[0m\n\u001b[0m",
      "\u001b[1;31mTypeError\u001b[0m: hyper_volume() missing 1 required positional argument: 'length'"
     ]
    }
   ],
   "source": [
    "print(hyper_volume(1))\n",
    "print(hyper_volume(1,2))\n",
    "print(hyper_volume(1,2,3))\n",
    "print(hyper_volume())"
   ]
  },
  {
   "cell_type": "markdown",
   "metadata": {},
   "source": [
    "**\\*args** syntax only collects positional parameters"
   ]
  },
  {
   "cell_type": "markdown",
   "metadata": {},
   "source": [
    "## Arbirtrary number of **Keyword** parameters\n",
    "Use **\\*\\*kwargs**"
   ]
  },
  {
   "cell_type": "code",
   "execution_count": 27,
   "metadata": {
    "collapsed": true
   },
   "outputs": [],
   "source": [
    "# name: regired parameter\n",
    "# **kwargs: optional keyword arguments\n",
    "def tag(name, **kwargs):\n",
    "    print(name)\n",
    "    print(kwargs)\n",
    "    print(type(kwargs))"
   ]
  },
  {
   "cell_type": "code",
   "execution_count": 30,
   "metadata": {},
   "outputs": [
    {
     "name": "stdout",
     "output_type": "stream",
     "text": [
      "img\n",
      "{'border': 1, 'src': 'monet.jpg', 'alt': 'Sunrise by me'}\n",
      "<class 'dict'>\n"
     ]
    }
   ],
   "source": [
    "# Test it\n",
    "tag('img', src=\"monet.jpg\", alt=\"Sunrise by me\", border=1)"
   ]
  },
  {
   "cell_type": "code",
   "execution_count": 47,
   "metadata": {
    "collapsed": true
   },
   "outputs": [],
   "source": [
    "# name: regired parameter\n",
    "# **attribute: optional keyword arguments\n",
    "def tag(name, **attributes):\n",
    "    result = '<' + name\n",
    "    # dict.item() returns key and value\n",
    "    for key, value in attributes.items():\n",
    "        result += \", {k}={v}\".format(k=key, v=str(value))\n",
    "    result += '>'\n",
    "    return result"
   ]
  },
  {
   "cell_type": "code",
   "execution_count": 48,
   "metadata": {},
   "outputs": [
    {
     "data": {
      "text/plain": [
       "'<img, border=1, src=monet.jpg, alt=Sunrise by me>'"
      ]
     },
     "execution_count": 48,
     "metadata": {},
     "output_type": "execute_result"
    }
   ],
   "source": [
    "# Test it\n",
    "tag('img', src=\"monet.jpg\", alt=\"Sunrise by me\", border=1)"
   ]
  },
  {
   "cell_type": "code",
   "execution_count": 49,
   "metadata": {},
   "outputs": [
    {
     "ename": "SyntaxError",
     "evalue": "invalid syntax (<ipython-input-49-9d30eec4633f>, line 1)",
     "output_type": "error",
     "traceback": [
      "\u001b[1;36m  File \u001b[1;32m\"<ipython-input-49-9d30eec4633f>\"\u001b[1;36m, line \u001b[1;32m1\u001b[0m\n\u001b[1;33m    def print_args(**kwargs, *args):\u001b[0m\n\u001b[1;37m                           ^\u001b[0m\n\u001b[1;31mSyntaxError\u001b[0m\u001b[1;31m:\u001b[0m invalid syntax\n"
     ]
    }
   ],
   "source": [
    "def print_args(**kwargs, *args):\n",
    "    print(kargs)\n",
    "    print(args)"
   ]
  },
  {
   "cell_type": "markdown",
   "metadata": {},
   "source": [
    "# Parameter order\n",
    "1) All your required parameters\n",
    "\n",
    "2) Follow (optional), arbitrary positional parameters \\*args\n",
    "\n",
    "3) Required key word arguments\n",
    "\n",
    "4) last (optional), arbitrary key word parameters **kwargs\n"
   ]
  },
  {
   "cell_type": "code",
   "execution_count": 51,
   "metadata": {},
   "outputs": [
    {
     "name": "stdout",
     "output_type": "stream",
     "text": [
      "('Maybe',)\n"
     ]
    }
   ],
   "source": [
    "def print_args(arg1, arg2, *args):\n",
    "    print(args)\n",
    "    \n",
    "# Test it\n",
    "print_args(\"yes\", \"no\", \"Maybe\")"
   ]
  },
  {
   "cell_type": "code",
   "execution_count": 57,
   "metadata": {},
   "outputs": [
    {
     "name": "stdout",
     "output_type": "stream",
     "text": [
      "2\n",
      "99\n",
      "()\n",
      "Real\n",
      "{}\n",
      "\n",
      "2\n",
      "99\n",
      "('Hello', [2, 3])\n",
      "Real\n",
      "{'last': 'State', 'name': 'Weber'}\n"
     ]
    }
   ],
   "source": [
    "# this is also valie\n",
    "def print_args(arg1, arg2, *args, kwarg1, **kwargs):\n",
    "    print(arg1)\n",
    "    print(arg2)\n",
    "    print(args)\n",
    "    print(kwarg1)\n",
    "    print(kwargs)\n",
    "    \n",
    "#test it\n",
    "print_args(2, 99, kwarg1=\"Real\")\n",
    "print()\n",
    "print_args(2, 99, \"Hello\", [2,3], kwarg1=\"Real\", name=\"Weber\", last=\"State\")"
   ]
  },
  {
   "cell_type": "markdown",
   "metadata": {},
   "source": [
    "## Forwarding arguments\n",
    "One of the most common uses of \\*args and \\*\\*kwargs is to pass the parameters from a function to another\n"
   ]
  },
  {
   "cell_type": "code",
   "execution_count": 58,
   "metadata": {
    "collapsed": true
   },
   "outputs": [],
   "source": [
    "def trace(f, *args, **kwargs):\n",
    "    print(\"args = \", args)\n",
    "    print(\"kwargs = \", kwargs)\n",
    "    result = f(*args, **kwargs)\n",
    "    print(\"resutl = \", result)\n",
    "    return result"
   ]
  },
  {
   "cell_type": "code",
   "execution_count": 59,
   "metadata": {},
   "outputs": [
    {
     "data": {
      "text/plain": [
       "255"
      ]
     },
     "execution_count": 59,
     "metadata": {},
     "output_type": "execute_result"
    }
   ],
   "source": [
    "# test trace\n",
    "int(\"ff\", base=16)"
   ]
  },
  {
   "cell_type": "code",
   "execution_count": 61,
   "metadata": {},
   "outputs": [
    {
     "name": "stdout",
     "output_type": "stream",
     "text": [
      "args =  ('ff',)\n",
      "kwargs =  {'base': 16}\n",
      "resutl =  255\n"
     ]
    },
    {
     "data": {
      "text/plain": [
       "255"
      ]
     },
     "execution_count": 61,
     "metadata": {},
     "output_type": "execute_result"
    }
   ],
   "source": [
    "trace(int,\"ff\", base=16)"
   ]
  },
  {
   "cell_type": "markdown",
   "metadata": {},
   "source": [
    "## Transposing Tables"
   ]
  },
  {
   "cell_type": "code",
   "execution_count": 64,
   "metadata": {},
   "outputs": [
    {
     "name": "stdout",
     "output_type": "stream",
     "text": [
      "(12, 14, 12)\n",
      "(14, 15, 14)\n",
      "(15, 14, 15)\n",
      "(15, 16, 15)\n",
      "(17, 18, 17)\n",
      "(21, 19, 21)\n",
      "(22, 19, 22)\n",
      "(23, 23, 23)\n",
      "(20, 105, -20)\n",
      "(15, 13, 7)\n"
     ]
    }
   ],
   "source": [
    "def test_tables():\n",
    "    sunday = [12, 14, 15, 15, 17, 21, 22, 23, 20, 15]\n",
    "    monday = [14, 15, 14, 16, 18, 19, 19, 23, 105, 13]\n",
    "    tuesday = [12, 14, 15, 15, 17, 21, 22, 23, -20, 7]\n",
    "\n",
    "    # Use the zip build-in function to combine\n",
    "    # iterables series elements into on series\n",
    "    # of tuples\n",
    "    for item in zip(sunday, monday, tuesday):\n",
    "        print(item)\n",
    "        \n",
    "# Test it\n",
    "test_tables()"
   ]
  },
  {
   "cell_type": "code",
   "execution_count": 67,
   "metadata": {},
   "outputs": [
    {
     "name": "stdout",
     "output_type": "stream",
     "text": [
      "[[12, 14, 15, 15, 17, 21, 22, 23, 20, 15],\n",
      " [14, 15, 14, 16, 18, 19, 19, 23, 105, 13],\n",
      " [12, 14, 15, 15, 17, 21, 22, 23, -20, 7]]\n",
      "(12, 14, 12)\n",
      "(14, 15, 14)\n",
      "(15, 14, 15)\n",
      "(15, 16, 15)\n",
      "(17, 18, 17)\n",
      "(21, 19, 21)\n",
      "(22, 19, 22)\n",
      "(23, 23, 23)\n",
      "(20, 105, -20)\n",
      "(15, 13, 7)\n"
     ]
    }
   ],
   "source": [
    "from pprint import pprint as pp\n",
    "# Define some dayes\n",
    "sunday = [12, 14, 15, 15, 17, 21, 22, 23, 20, 15]\n",
    "monday = [14, 15, 14, 16, 18, 19, 19, 23, 105, 13]\n",
    "tuesday = [12, 14, 15, 15, 17, 21, 22, 23, -20, 7]\n",
    "\n",
    "# Combine these lists\n",
    "daily = [sunday, monday, tuesday]\n",
    "pp(daily)\n",
    "\n",
    "for item in zip(sunday, monday, tuesday):\n",
    "    print(item)"
   ]
  },
  {
   "cell_type": "code",
   "execution_count": 68,
   "metadata": {},
   "outputs": [
    {
     "name": "stdout",
     "output_type": "stream",
     "text": [
      "(12, 14, 12)\n",
      "(14, 15, 14)\n",
      "(15, 14, 15)\n",
      "(15, 16, 15)\n",
      "(17, 18, 17)\n",
      "(21, 19, 21)\n",
      "(22, 19, 22)\n",
      "(23, 23, 23)\n",
      "(20, 105, -20)\n",
      "(15, 13, 7)\n"
     ]
    }
   ],
   "source": [
    "for item in zip(*daily):\n",
    "    print(item)"
   ]
  },
  {
   "cell_type": "code",
   "execution_count": 70,
   "metadata": {},
   "outputs": [
    {
     "name": "stdout",
     "output_type": "stream",
     "text": [
      "[[12, 14, 15, 15, 17, 21, 22, 23, 20, 15],\n",
      " [14, 15, 14, 16, 18, 19, 19, 23, 105, 13],\n",
      " [12, 14, 15, 15, 17, 21, 22, 23, -20, 7]]\n",
      "[(12, 14, 12),\n",
      " (14, 15, 14),\n",
      " (15, 14, 15),\n",
      " (15, 16, 15),\n",
      " (17, 18, 17),\n",
      " (21, 19, 21),\n",
      " (22, 19, 22),\n",
      " (23, 23, 23),\n",
      " (20, 105, -20),\n",
      " (15, 13, 7)]\n"
     ]
    }
   ],
   "source": [
    "# Transpose the data\n",
    "pp(daily) # origianl\n",
    "transpose = list(zip(*daily))\n",
    "pp(transpose)"
   ]
  },
  {
   "cell_type": "code",
   "execution_count": null,
   "metadata": {
    "collapsed": true
   },
   "outputs": [],
   "source": []
  }
 ],
 "metadata": {
  "kernelspec": {
   "display_name": "Python 3",
   "language": "python",
   "name": "python3"
  },
  "language_info": {
   "codemirror_mode": {
    "name": "ipython",
    "version": 3
   },
   "file_extension": ".py",
   "mimetype": "text/x-python",
   "name": "python",
   "nbconvert_exporter": "python",
   "pygments_lexer": "ipython3",
   "version": "3.5.1"
  }
 },
 "nbformat": 4,
 "nbformat_minor": 2
}
