{
 "cells": [
  {
   "cell_type": "markdown",
   "metadata": {},
   "source": [
    "# Closures\n",
    "Is a record storing a function together with a environment: a mapping associating each free variable of the function with the value or storage location to which the name was bound when the closure was create\n",
    "\n",
    "Note: unlike a regular function, closures allow the function to access those capture variables through the closure's reference to them"
   ]
  },
  {
   "cell_type": "code",
   "execution_count": 1,
   "metadata": {
    "collapsed": true
   },
   "outputs": [],
   "source": [
    "def outer_func():\n",
    "    message = \"hi\"\n",
    "    def inner_func():\n",
    "        print(message)\n",
    "    return inner_func"
   ]
  },
  {
   "cell_type": "code",
   "execution_count": 6,
   "metadata": {},
   "outputs": [
    {
     "name": "stdout",
     "output_type": "stream",
     "text": [
      "<function outer_func.<locals>.inner_func at 0x00000235FD536C80>\n",
      "inner_func\n"
     ]
    }
   ],
   "source": [
    "# Test is\n",
    "myf = outer_func()\n",
    "print(myf)\n",
    "print(myf.__name__)"
   ]
  },
  {
   "cell_type": "code",
   "execution_count": 7,
   "metadata": {},
   "outputs": [
    {
     "name": "stdout",
     "output_type": "stream",
     "text": [
      "hi\n",
      "hi\n"
     ]
    }
   ],
   "source": [
    "# Execute the function\n",
    "myf()\n",
    "myf()"
   ]
  },
  {
   "cell_type": "code",
   "execution_count": 8,
   "metadata": {
    "collapsed": true
   },
   "outputs": [],
   "source": [
    "def outer_func(msg):\n",
    "    message = msg\n",
    "    def inner_func():\n",
    "        print(message)\n",
    "    return inner_func"
   ]
  },
  {
   "cell_type": "code",
   "execution_count": 13,
   "metadata": {},
   "outputs": [
    {
     "name": "stdout",
     "output_type": "stream",
     "text": [
      "Hi\n",
      "(<cell at 0x00000235FD542588: str object at 0x00000235FD52CDF8>,)\n",
      "Hola\n",
      "(<cell at 0x00000235FD5424C8: str object at 0x00000235FD55A378>,)\n"
     ]
    }
   ],
   "source": [
    "# Test it\n",
    "myf1 = outer_func(\"Hi\")\n",
    "myf2 = outer_func(\"Hola\")\n",
    "#runig\n",
    "myf1()\n",
    "print(myf1.__closure__)\n",
    "myf2()\n",
    "print(myf2.__closure__)"
   ]
  },
  {
   "cell_type": "markdown",
   "metadata": {},
   "source": [
    "## nonlocal Keywords\n",
    "Demo on new name binding for a message variable"
   ]
  },
  {
   "cell_type": "code",
   "execution_count": 20,
   "metadata": {},
   "outputs": [
    {
     "name": "stdout",
     "output_type": "stream",
     "text": [
      "Enclosing message:  global\n",
      "Enclosing message:  enclosing\n",
      "Enclosing message:  local\n",
      "Enclosing message:  local\n",
      "Enclosing message:  local\n"
     ]
    }
   ],
   "source": [
    "message = \"global\"\n",
    "def enclosing():\n",
    "    global message\n",
    "    message = \"enclosing\"\n",
    "    def local():\n",
    "        global message\n",
    "        message = \"local\"\n",
    "        print(\"Enclosing message: \", message)\n",
    "    print(\"Enclosing message: \", message)\n",
    "    local()\n",
    "    print(\"Enclosing message: \", message)\n",
    "    \n",
    "print(\"Enclosing message: \", message)\n",
    "enclosing()\n",
    "print(\"Enclosing message: \", message)\n"
   ]
  },
  {
   "cell_type": "code",
   "execution_count": null,
   "metadata": {
    "collapsed": true
   },
   "outputs": [],
   "source": []
  }
 ],
 "metadata": {
  "kernelspec": {
   "display_name": "Python 3",
   "language": "python",
   "name": "python3"
  },
  "language_info": {
   "codemirror_mode": {
    "name": "ipython",
    "version": 3
   },
   "file_extension": ".py",
   "mimetype": "text/x-python",
   "name": "python",
   "nbconvert_exporter": "python",
   "pygments_lexer": "ipython3",
   "version": "3.5.1"
  }
 },
 "nbformat": 4,
 "nbformat_minor": 2
}
